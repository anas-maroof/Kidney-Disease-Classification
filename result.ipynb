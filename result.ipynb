{
 "cells": [
  {
   "cell_type": "code",
   "execution_count": 27,
   "metadata": {},
   "outputs": [
    {
     "name": "stdout",
     "output_type": "stream",
     "text": [
      "X_test shape: (7360, 224, 224, 3)\n",
      "y_test shape: (7360,)\n"
     ]
    }
   ],
   "source": [
    "import os\n",
    "import cv2\n",
    "import numpy as np\n",
    "\n",
    "# Function to load and preprocess images\n",
    "def load_images_from_folder(folder, label):\n",
    "    images = []\n",
    "    labels = []\n",
    "    for filename in os.listdir(folder):\n",
    "        img_path = os.path.join(folder, filename)\n",
    "        if img_path.endswith(\".jpg\") or img_path.endswith(\".png\"):  # Filter image files\n",
    "            # Load and preprocess image\n",
    "            img = cv2.imread(img_path)\n",
    "            img = cv2.resize(img, (224, 224))  # Resize image to 224x224\n",
    "            img = cv2.cvtColor(img, cv2.COLOR_BGR2RGB)  # Convert BGR to RGB\n",
    "            # Append image and label to lists\n",
    "            images.append(img)\n",
    "            labels.append(label)\n",
    "    return images, labels\n",
    "\n",
    "# Paths to folders containing images\n",
    "normal_folder = \"artifacts/data_ingestion/kidney-ct-scan-image/Normal\"\n",
    "tumor_folder = \"artifacts/data_ingestion/kidney-ct-scan-image/Tumor\"\n",
    "\n",
    "# Load normal images and assign label 0\n",
    "normal_images, normal_labels = load_images_from_folder(normal_folder, 0)\n",
    "\n",
    "# Load tumor images and assign label 1\n",
    "tumor_images, tumor_labels = load_images_from_folder(tumor_folder, 1)\n",
    "\n",
    "# Combine normal and tumor images and labels\n",
    "X_test = np.array(normal_images + tumor_images)\n",
    "y_test = np.array(normal_labels + tumor_labels)\n",
    "\n",
    "# Convert labels to one-hot encoding (optional)\n",
    "# y_test = np.eye(2)[y_test]\n",
    "\n",
    "# Shuffle X_test and y_test in the same order\n",
    "shuffle_indices = np.random.permutation(len(X_test))\n",
    "X_test = X_test[shuffle_indices]\n",
    "y_test = y_test[shuffle_indices]\n",
    "\n",
    "# Normalize pixel values to range [0, 1]\n",
    "X_test = X_test.astype('float32') / 255.0\n",
    "\n",
    "# Print shapes of X_test and y_test\n",
    "print(\"X_test shape:\", X_test.shape)\n",
    "print(\"y_test shape:\", y_test.shape)\n"
   ]
  },
  {
   "cell_type": "code",
   "execution_count": 29,
   "metadata": {},
   "outputs": [
    {
     "data": {
      "text/plain": [
       "numpy.ndarray"
      ]
     },
     "execution_count": 29,
     "metadata": {},
     "output_type": "execute_result"
    }
   ],
   "source": [
    "type(X_test)"
   ]
  },
  {
   "cell_type": "code",
   "execution_count": 30,
   "metadata": {},
   "outputs": [],
   "source": [
    "import tensorflow as tf\n",
    "from tensorflow.keras.models import load_model\n",
    "\n",
    "# Load the model\n",
    "model = load_model('artifacts/training/model.h5')\n",
    "\n",
    "# Load the dataset\n",
    "X_test = X_test  # Your test dataset features\n",
    "y_test = y_test "
   ]
  },
  {
   "cell_type": "code",
   "execution_count": 31,
   "metadata": {},
   "outputs": [
    {
     "name": "stdout",
     "output_type": "stream",
     "text": [
      "230/230 [==============================] - 703s 3s/step\n"
     ]
    }
   ],
   "source": [
    "y_pred = model.predict(X_test)"
   ]
  },
  {
   "cell_type": "code",
   "execution_count": 32,
   "metadata": {},
   "outputs": [],
   "source": [
    "from sklearn.metrics import confusion_matrix, accuracy_score, precision_score, recall_score, r2_score"
   ]
  },
  {
   "cell_type": "code",
   "execution_count": 44,
   "metadata": {},
   "outputs": [
    {
     "name": "stdout",
     "output_type": "stream",
     "text": [
      "Accuracy: 0.9455163043478261\n"
     ]
    }
   ],
   "source": [
    "accuracy = accuracy_score(y_test, y_pred.argmax(axis=1))\n",
    "print(\"Accuracy:\", accuracy)"
   ]
  },
  {
   "cell_type": "code",
   "execution_count": 34,
   "metadata": {},
   "outputs": [
    {
     "name": "stdout",
     "output_type": "stream",
     "text": [
      "Confusion Matrix:\n",
      " [[4966  111]\n",
      " [ 290 1993]]\n"
     ]
    }
   ],
   "source": [
    "conf_matrix = confusion_matrix(y_test, y_pred.argmax(axis=1))\n",
    "print(\"Confusion Matrix:\\n\", conf_matrix)"
   ]
  },
  {
   "cell_type": "code",
   "execution_count": 35,
   "metadata": {},
   "outputs": [
    {
     "name": "stdout",
     "output_type": "stream",
     "text": [
      "Precision: 0.9472433460076045\n"
     ]
    }
   ],
   "source": [
    "precision = precision_score(y_test, y_pred.argmax(axis=1))\n",
    "print(\"Precision:\", precision)"
   ]
  },
  {
   "cell_type": "code",
   "execution_count": 36,
   "metadata": {},
   "outputs": [
    {
     "name": "stdout",
     "output_type": "stream",
     "text": [
      "Recall: 0.8729741568112133\n"
     ]
    }
   ],
   "source": [
    "recall = recall_score(y_test, y_pred.argmax(axis=1))\n",
    "print(\"Recall:\", recall)"
   ]
  },
  {
   "cell_type": "code",
   "execution_count": null,
   "metadata": {},
   "outputs": [],
   "source": []
  }
 ],
 "metadata": {
  "kernelspec": {
   "display_name": "kidney",
   "language": "python",
   "name": "python3"
  },
  "language_info": {
   "codemirror_mode": {
    "name": "ipython",
    "version": 3
   },
   "file_extension": ".py",
   "mimetype": "text/x-python",
   "name": "python",
   "nbconvert_exporter": "python",
   "pygments_lexer": "ipython3",
   "version": "3.8.18"
  }
 },
 "nbformat": 4,
 "nbformat_minor": 2
}
